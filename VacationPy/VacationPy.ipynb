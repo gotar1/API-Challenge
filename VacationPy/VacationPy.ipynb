{
 "cells": [
  {
   "cell_type": "code",
   "execution_count": 1,
   "metadata": {},
   "outputs": [],
   "source": [
    "import matplotlib.pyplot as plt\n",
    "import pandas as pd\n",
    "import numpy as np\n",
    "import requests\n",
    "import gmaps\n",
    "import os\n",
    "from api_keys import g_key"
   ]
  },
  {
   "cell_type": "code",
   "execution_count": 5,
   "metadata": {},
   "outputs": [
    {
     "output_type": "execute_result",
     "data": {
      "text/plain": "        City    Lat    Long  Max Temp  Humidity  Cloudiness  Wind Speed  \\\n0     Albany  42.60  -73.97     70.00        85          53        3.53   \n1    Kavieng  -2.57  150.80     82.67        71         100        2.91   \n2  Flin Flon  54.77 -101.86     55.71        83          76        5.68   \n3    Ushuaia -54.80  -68.30     35.60        64          75       12.75   \n4     Broome  42.25  -75.83     68.00        82          90        3.36   \n\n  Country        Date  \n0      US  1597469726  \n1      PG  1597469725  \n2      CA  1597469964  \n3      AR  1597469964  \n4      US  1597469815  ",
      "text/html": "<div>\n<style scoped>\n    .dataframe tbody tr th:only-of-type {\n        vertical-align: middle;\n    }\n\n    .dataframe tbody tr th {\n        vertical-align: top;\n    }\n\n    .dataframe thead th {\n        text-align: right;\n    }\n</style>\n<table border=\"1\" class=\"dataframe\">\n  <thead>\n    <tr style=\"text-align: right;\">\n      <th></th>\n      <th>City</th>\n      <th>Lat</th>\n      <th>Long</th>\n      <th>Max Temp</th>\n      <th>Humidity</th>\n      <th>Cloudiness</th>\n      <th>Wind Speed</th>\n      <th>Country</th>\n      <th>Date</th>\n    </tr>\n  </thead>\n  <tbody>\n    <tr>\n      <th>0</th>\n      <td>Albany</td>\n      <td>42.60</td>\n      <td>-73.97</td>\n      <td>70.00</td>\n      <td>85</td>\n      <td>53</td>\n      <td>3.53</td>\n      <td>US</td>\n      <td>1597469726</td>\n    </tr>\n    <tr>\n      <th>1</th>\n      <td>Kavieng</td>\n      <td>-2.57</td>\n      <td>150.80</td>\n      <td>82.67</td>\n      <td>71</td>\n      <td>100</td>\n      <td>2.91</td>\n      <td>PG</td>\n      <td>1597469725</td>\n    </tr>\n    <tr>\n      <th>2</th>\n      <td>Flin Flon</td>\n      <td>54.77</td>\n      <td>-101.86</td>\n      <td>55.71</td>\n      <td>83</td>\n      <td>76</td>\n      <td>5.68</td>\n      <td>CA</td>\n      <td>1597469964</td>\n    </tr>\n    <tr>\n      <th>3</th>\n      <td>Ushuaia</td>\n      <td>-54.80</td>\n      <td>-68.30</td>\n      <td>35.60</td>\n      <td>64</td>\n      <td>75</td>\n      <td>12.75</td>\n      <td>AR</td>\n      <td>1597469964</td>\n    </tr>\n    <tr>\n      <th>4</th>\n      <td>Broome</td>\n      <td>42.25</td>\n      <td>-75.83</td>\n      <td>68.00</td>\n      <td>82</td>\n      <td>90</td>\n      <td>3.36</td>\n      <td>US</td>\n      <td>1597469815</td>\n    </tr>\n  </tbody>\n</table>\n</div>"
     },
     "metadata": {},
     "execution_count": 5
    }
   ],
   "source": [
    "file_path = \"../WeatherPy/output_data/cities.csv\"\n",
    "cities_data = pd.read_csv(file_path)\n",
    "cities_data.head()"
   ]
  },
  {
   "cell_type": "code",
   "execution_count": 36,
   "metadata": {},
   "outputs": [
    {
     "output_type": "display_data",
     "data": {
      "text/plain": "Figure(layout=FigureLayout(height='420px'))",
      "application/vnd.jupyter.widget-view+json": {
       "version_major": 2,
       "version_minor": 0,
       "model_id": "594eaa153c6644f29ede88f7b4d92ee8"
      }
     },
     "metadata": {}
    }
   ],
   "source": [
    "gmaps.configure(api_key=g_key)\n",
    "figure_layout = {\n",
    "    'width': '400px',\n",
    "    'height': '400px',\n",
    "    'border': '1px solid black',\n",
    "    'padding': '1px'\n",
    "}\n",
    "gmaps.figure(layout=figure_layout)\n",
    "fig = gmaps.figure(map_type='SATELLITE')\n",
    "locations = cities_data[['Lat', 'Long']]\n",
    "# weight = cities_data['Humidity']\n",
    "# heatmap_layer = gmaps.heatmap_layer(locations, weights=weight)\n",
    "# fig.add_layer(heatmap_layer)\n",
    "# heatmap_layer.max_intensity = 300\n",
    "# heatmap_layer.point_radius = 5\n",
    "fig\n",
    "# locations.head()"
   ]
  },
  {
   "cell_type": "code",
   "execution_count": 18,
   "metadata": {},
   "outputs": [
    {
     "output_type": "execute_result",
     "data": {
      "text/plain": "                       City    Lat    Long  Max Temp  Humidity  Cloudiness  \\\n59                    Airai  -8.93  125.41     76.37        36           0   \n105          Guerrero Negro  27.98 -114.06     73.38        66           0   \n198  São Miguel do Araguaia -13.28  -50.16     71.46        44           0   \n229                  Avarua -21.21 -159.78     75.20       100           0   \n280                 Potenza  40.64   15.81     70.47        60           0   \n\n     Wind Speed Country        Date  \n59         6.02      TL  1597469974  \n105        2.77      MX  1597469982  \n198        3.24      BR  1597469997  \n229        6.93      CK  1597469928  \n280        5.19      IT  1597470011  ",
      "text/html": "<div>\n<style scoped>\n    .dataframe tbody tr th:only-of-type {\n        vertical-align: middle;\n    }\n\n    .dataframe tbody tr th {\n        vertical-align: top;\n    }\n\n    .dataframe thead th {\n        text-align: right;\n    }\n</style>\n<table border=\"1\" class=\"dataframe\">\n  <thead>\n    <tr style=\"text-align: right;\">\n      <th></th>\n      <th>City</th>\n      <th>Lat</th>\n      <th>Long</th>\n      <th>Max Temp</th>\n      <th>Humidity</th>\n      <th>Cloudiness</th>\n      <th>Wind Speed</th>\n      <th>Country</th>\n      <th>Date</th>\n    </tr>\n  </thead>\n  <tbody>\n    <tr>\n      <th>59</th>\n      <td>Airai</td>\n      <td>-8.93</td>\n      <td>125.41</td>\n      <td>76.37</td>\n      <td>36</td>\n      <td>0</td>\n      <td>6.02</td>\n      <td>TL</td>\n      <td>1597469974</td>\n    </tr>\n    <tr>\n      <th>105</th>\n      <td>Guerrero Negro</td>\n      <td>27.98</td>\n      <td>-114.06</td>\n      <td>73.38</td>\n      <td>66</td>\n      <td>0</td>\n      <td>2.77</td>\n      <td>MX</td>\n      <td>1597469982</td>\n    </tr>\n    <tr>\n      <th>198</th>\n      <td>São Miguel do Araguaia</td>\n      <td>-13.28</td>\n      <td>-50.16</td>\n      <td>71.46</td>\n      <td>44</td>\n      <td>0</td>\n      <td>3.24</td>\n      <td>BR</td>\n      <td>1597469997</td>\n    </tr>\n    <tr>\n      <th>229</th>\n      <td>Avarua</td>\n      <td>-21.21</td>\n      <td>-159.78</td>\n      <td>75.20</td>\n      <td>100</td>\n      <td>0</td>\n      <td>6.93</td>\n      <td>CK</td>\n      <td>1597469928</td>\n    </tr>\n    <tr>\n      <th>280</th>\n      <td>Potenza</td>\n      <td>40.64</td>\n      <td>15.81</td>\n      <td>70.47</td>\n      <td>60</td>\n      <td>0</td>\n      <td>5.19</td>\n      <td>IT</td>\n      <td>1597470011</td>\n    </tr>\n  </tbody>\n</table>\n</div>"
     },
     "metadata": {},
     "execution_count": 18
    }
   ],
   "source": [
    "columns = ['City', 'Lat', 'Long', 'Max Temp', 'Humidity', 'Cloudiness', 'Wind Speed', 'Country', 'Date']\n",
    "city_choice = cities_data.loc[(cities_data[\"Max Temp\"] > 70) & (cities_data[\"Max Temp\"] < 80) & (\n",
    "        cities_data[\"Wind Speed\"] < 10) & (cities_data[\"Cloudiness\"] == 0 ), columns]\n",
    "city_choice.head()"
   ]
  },
  {
   "cell_type": "code",
   "execution_count": null,
   "metadata": {},
   "outputs": [],
   "source": []
  }
 ],
 "metadata": {
  "kernelspec": {
   "name": "python_defaultSpec_1597545763015",
   "display_name": "Python 3.6.10 64-bit ('PythonData': conda)"
  }
 },
 "nbformat": 4,
 "nbformat_minor": 4
}