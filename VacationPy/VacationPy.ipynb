{
 "cells": [
  {
   "cell_type": "code",
   "execution_count": 1,
   "metadata": {},
   "outputs": [],
   "source": [
    "import matplotlib.pyplot as plt\n",
    "import pandas as pd\n",
    "import numpy as np\n",
    "import requests\n",
    "import gmaps\n",
    "import os\n",
    "from api_keys import g_key\n",
    "import time"
   ]
  },
  {
   "cell_type": "code",
   "execution_count": 17,
   "metadata": {},
   "outputs": [
    {
     "output_type": "execute_result",
     "data": {
      "text/plain": "             City    Lat    Long  Max Temp  Humidity  Cloudiness  Wind Speed  \\\n540     Moose Jaw  50.40 -105.53     78.80        41          75        6.93   \n541  Tres Arroyos -38.37  -60.28     57.06        41           0       15.88   \n542        Yulara -25.24  130.99     57.20        36           0        6.93   \n543        Ferrol  43.48   -8.24     71.60        78          75        8.05   \n544          Biak  -0.91  122.88     74.77        72         100        8.41   \n\n    Country        Date  \n540      CA  1597687841  \n541      AR  1597687841  \n542      AU  1597687842  \n543      ES  1597687842  \n544      ID  1597687842  ",
      "text/html": "<div>\n<style scoped>\n    .dataframe tbody tr th:only-of-type {\n        vertical-align: middle;\n    }\n\n    .dataframe tbody tr th {\n        vertical-align: top;\n    }\n\n    .dataframe thead th {\n        text-align: right;\n    }\n</style>\n<table border=\"1\" class=\"dataframe\">\n  <thead>\n    <tr style=\"text-align: right;\">\n      <th></th>\n      <th>City</th>\n      <th>Lat</th>\n      <th>Long</th>\n      <th>Max Temp</th>\n      <th>Humidity</th>\n      <th>Cloudiness</th>\n      <th>Wind Speed</th>\n      <th>Country</th>\n      <th>Date</th>\n    </tr>\n  </thead>\n  <tbody>\n    <tr>\n      <th>540</th>\n      <td>Moose Jaw</td>\n      <td>50.40</td>\n      <td>-105.53</td>\n      <td>78.80</td>\n      <td>41</td>\n      <td>75</td>\n      <td>6.93</td>\n      <td>CA</td>\n      <td>1597687841</td>\n    </tr>\n    <tr>\n      <th>541</th>\n      <td>Tres Arroyos</td>\n      <td>-38.37</td>\n      <td>-60.28</td>\n      <td>57.06</td>\n      <td>41</td>\n      <td>0</td>\n      <td>15.88</td>\n      <td>AR</td>\n      <td>1597687841</td>\n    </tr>\n    <tr>\n      <th>542</th>\n      <td>Yulara</td>\n      <td>-25.24</td>\n      <td>130.99</td>\n      <td>57.20</td>\n      <td>36</td>\n      <td>0</td>\n      <td>6.93</td>\n      <td>AU</td>\n      <td>1597687842</td>\n    </tr>\n    <tr>\n      <th>543</th>\n      <td>Ferrol</td>\n      <td>43.48</td>\n      <td>-8.24</td>\n      <td>71.60</td>\n      <td>78</td>\n      <td>75</td>\n      <td>8.05</td>\n      <td>ES</td>\n      <td>1597687842</td>\n    </tr>\n    <tr>\n      <th>544</th>\n      <td>Biak</td>\n      <td>-0.91</td>\n      <td>122.88</td>\n      <td>74.77</td>\n      <td>72</td>\n      <td>100</td>\n      <td>8.41</td>\n      <td>ID</td>\n      <td>1597687842</td>\n    </tr>\n  </tbody>\n</table>\n</div>"
     },
     "metadata": {},
     "execution_count": 17
    }
   ],
   "source": [
    "file_path = \"../WeatherPy/output_data/cities.csv\"\n",
    "cities_data = pd.read_csv(file_path)\n",
    "cities_data.tail()"
   ]
  },
  {
   "cell_type": "code",
   "execution_count": 67,
   "metadata": {},
   "outputs": [
    {
     "output_type": "display_data",
     "data": {
      "text/plain": "Figure(layout=FigureLayout(height='420px'))",
      "application/vnd.jupyter.widget-view+json": {
       "version_major": 2,
       "version_minor": 0,
       "model_id": "2e668c212c3d45c4b7351afed93b6d49"
      }
     },
     "metadata": {}
    }
   ],
   "source": [
    "gmaps.configure(api_key=g_key)\n",
    "figure_layout = {\n",
    "    'width': '400px',\n",
    "    'height': '420px',\n",
    "    'border': '1px solid black',\n",
    "    'padding': '1px'\n",
    "}\n",
    "gmaps.figure(layout=figure_layout)\n",
    "locations = cities_data[['Lat', 'Long']]\n",
    "weight = cities_data['Humidity']\n",
    "fig = gmaps.figure(center=(30.0, 31.0), zoom_level=1.5)\n",
    "heatmap_layer = gmaps.heatmap_layer(locations, weights=weight, dissipating=False)\n",
    "heatmap_layer.max_intensity = 100\n",
    "heatmap_layer.point_radius = 1\n",
    "fig.add_layer(heatmap_layer)\n",
    "fig"
   ]
  },
  {
   "cell_type": "code",
   "execution_count": 63,
   "metadata": {
    "tags": []
   },
   "outputs": [
    {
     "output_type": "stream",
     "name": "stdout",
     "text": "Lat    Long\n73   31.67   38.66\n90   -9.88  -56.09\n134 -25.30  152.85\n150 -16.23   39.91\n157 -20.10  146.27\n177  57.31   88.17\n198 -13.28  -50.16\n276  30.48 -115.95\n319 -14.97   22.68\n338 -25.17   45.05\n341 -25.17   46.08\n354  15.17   44.32\n362  -9.66   20.39\n379  30.85 -116.07\n386  18.39   42.45\n387  45.49   41.22\n391  49.67   32.32\n441 -11.03  -68.77\n449 -18.51  -54.76\n475  26.68  -80.67\n482  18.49  -66.83\n492  13.57   -8.03\n509  56.54   89.30\n"
    }
   ],
   "source": [
    "print(locations)"
   ]
  },
  {
   "cell_type": "code",
   "execution_count": 4,
   "metadata": {},
   "outputs": [
    {
     "output_type": "execute_result",
     "data": {
      "text/plain": "                City    Lat    Long  Max Temp  Humidity  Cloudiness  \\\n73            Turaif  31.67   38.66     77.00        44           0   \n90     Alta Floresta  -9.88  -56.09     70.29        40           0   \n134       Hervey Bay -25.30  152.85     73.40        27           0   \n150          Angoche -16.23   39.91     77.83        67           0   \n157  Charters Towers -20.10  146.27     76.19        19           0   \n\n     Wind Speed Country        Date  \n73         3.36      SA  1597647492  \n90         1.34      BR  1597647494  \n134        9.17      AU  1597647679  \n150        5.44      MZ  1597647683  \n157        3.76      AU  1597647684  ",
      "text/html": "<div>\n<style scoped>\n    .dataframe tbody tr th:only-of-type {\n        vertical-align: middle;\n    }\n\n    .dataframe tbody tr th {\n        vertical-align: top;\n    }\n\n    .dataframe thead th {\n        text-align: right;\n    }\n</style>\n<table border=\"1\" class=\"dataframe\">\n  <thead>\n    <tr style=\"text-align: right;\">\n      <th></th>\n      <th>City</th>\n      <th>Lat</th>\n      <th>Long</th>\n      <th>Max Temp</th>\n      <th>Humidity</th>\n      <th>Cloudiness</th>\n      <th>Wind Speed</th>\n      <th>Country</th>\n      <th>Date</th>\n    </tr>\n  </thead>\n  <tbody>\n    <tr>\n      <th>73</th>\n      <td>Turaif</td>\n      <td>31.67</td>\n      <td>38.66</td>\n      <td>77.00</td>\n      <td>44</td>\n      <td>0</td>\n      <td>3.36</td>\n      <td>SA</td>\n      <td>1597647492</td>\n    </tr>\n    <tr>\n      <th>90</th>\n      <td>Alta Floresta</td>\n      <td>-9.88</td>\n      <td>-56.09</td>\n      <td>70.29</td>\n      <td>40</td>\n      <td>0</td>\n      <td>1.34</td>\n      <td>BR</td>\n      <td>1597647494</td>\n    </tr>\n    <tr>\n      <th>134</th>\n      <td>Hervey Bay</td>\n      <td>-25.30</td>\n      <td>152.85</td>\n      <td>73.40</td>\n      <td>27</td>\n      <td>0</td>\n      <td>9.17</td>\n      <td>AU</td>\n      <td>1597647679</td>\n    </tr>\n    <tr>\n      <th>150</th>\n      <td>Angoche</td>\n      <td>-16.23</td>\n      <td>39.91</td>\n      <td>77.83</td>\n      <td>67</td>\n      <td>0</td>\n      <td>5.44</td>\n      <td>MZ</td>\n      <td>1597647683</td>\n    </tr>\n    <tr>\n      <th>157</th>\n      <td>Charters Towers</td>\n      <td>-20.10</td>\n      <td>146.27</td>\n      <td>76.19</td>\n      <td>19</td>\n      <td>0</td>\n      <td>3.76</td>\n      <td>AU</td>\n      <td>1597647684</td>\n    </tr>\n  </tbody>\n</table>\n</div>"
     },
     "metadata": {},
     "execution_count": 4
    }
   ],
   "source": [
    "columns = ['City', 'Lat', 'Long', 'Max Temp', 'Humidity', 'Cloudiness', 'Wind Speed', 'Country', 'Date']\n",
    "city_choice = cities_data.loc[(cities_data[\"Max Temp\"] > 70) & (cities_data[\"Max Temp\"] < 80) & (\n",
    "        cities_data[\"Wind Speed\"] < 10) & (cities_data[\"Cloudiness\"] == 0 ), columns]\n",
    "city_choice.head()"
   ]
  },
  {
   "cell_type": "code",
   "execution_count": 27,
   "metadata": {},
   "outputs": [
    {
     "output_type": "execute_result",
     "data": {
      "text/plain": "                City    Lat    Long  Max Temp  Humidity  Cloudiness  \\\n73            Turaif  31.67   38.66     77.00        44           0   \n90     Alta Floresta  -9.88  -56.09     70.29        40           0   \n134       Hervey Bay -25.30  152.85     73.40        27           0   \n150          Angoche -16.23   39.91     77.83        67           0   \n157  Charters Towers -20.10  146.27     76.19        19           0   \n\n     Wind Speed Country        Date Hotel Name Hotel Rating  \n73         3.36      SA  1597647492                          \n90         1.34      BR  1597647494                          \n134        9.17      AU  1597647679                          \n150        5.44      MZ  1597647683                          \n157        3.76      AU  1597647684                          ",
      "text/html": "<div>\n<style scoped>\n    .dataframe tbody tr th:only-of-type {\n        vertical-align: middle;\n    }\n\n    .dataframe tbody tr th {\n        vertical-align: top;\n    }\n\n    .dataframe thead th {\n        text-align: right;\n    }\n</style>\n<table border=\"1\" class=\"dataframe\">\n  <thead>\n    <tr style=\"text-align: right;\">\n      <th></th>\n      <th>City</th>\n      <th>Lat</th>\n      <th>Long</th>\n      <th>Max Temp</th>\n      <th>Humidity</th>\n      <th>Cloudiness</th>\n      <th>Wind Speed</th>\n      <th>Country</th>\n      <th>Date</th>\n      <th>Hotel Name</th>\n      <th>Hotel Rating</th>\n    </tr>\n  </thead>\n  <tbody>\n    <tr>\n      <th>73</th>\n      <td>Turaif</td>\n      <td>31.67</td>\n      <td>38.66</td>\n      <td>77.00</td>\n      <td>44</td>\n      <td>0</td>\n      <td>3.36</td>\n      <td>SA</td>\n      <td>1597647492</td>\n      <td></td>\n      <td></td>\n    </tr>\n    <tr>\n      <th>90</th>\n      <td>Alta Floresta</td>\n      <td>-9.88</td>\n      <td>-56.09</td>\n      <td>70.29</td>\n      <td>40</td>\n      <td>0</td>\n      <td>1.34</td>\n      <td>BR</td>\n      <td>1597647494</td>\n      <td></td>\n      <td></td>\n    </tr>\n    <tr>\n      <th>134</th>\n      <td>Hervey Bay</td>\n      <td>-25.30</td>\n      <td>152.85</td>\n      <td>73.40</td>\n      <td>27</td>\n      <td>0</td>\n      <td>9.17</td>\n      <td>AU</td>\n      <td>1597647679</td>\n      <td></td>\n      <td></td>\n    </tr>\n    <tr>\n      <th>150</th>\n      <td>Angoche</td>\n      <td>-16.23</td>\n      <td>39.91</td>\n      <td>77.83</td>\n      <td>67</td>\n      <td>0</td>\n      <td>5.44</td>\n      <td>MZ</td>\n      <td>1597647683</td>\n      <td></td>\n      <td></td>\n    </tr>\n    <tr>\n      <th>157</th>\n      <td>Charters Towers</td>\n      <td>-20.10</td>\n      <td>146.27</td>\n      <td>76.19</td>\n      <td>19</td>\n      <td>0</td>\n      <td>3.76</td>\n      <td>AU</td>\n      <td>1597647684</td>\n      <td></td>\n      <td></td>\n    </tr>\n  </tbody>\n</table>\n</div>"
     },
     "metadata": {},
     "execution_count": 27
    }
   ],
   "source": [
    "hotel_df = city_choice\n",
    "hotel_df['Hotel Name'] = ''\n",
    "hotel_df['Hotel Rating'] = ''\n",
    "hotel_df.head()\n",
    "# len(hotel_df)"
   ]
  },
  {
   "cell_type": "code",
   "execution_count": 12,
   "metadata": {
    "tags": []
   },
   "outputs": [
    {
     "output_type": "execute_result",
     "data": {
      "text/plain": "<Response [200]>"
     },
     "metadata": {},
     "execution_count": 12
    }
   ],
   "source": [
    "url = 'https://maps.googleapis.com/maps/api/place/nearbysearch/json?'\n",
    "params = {\n",
    "    'type': 'lodging',\n",
    "    'radius': 5000,\n",
    "    'key': g_key\n",
    "}\n",
    "resp = requests.get(url, params = params)\n",
    "resp"
   ]
  },
  {
   "cell_type": "code",
   "execution_count": 37,
   "metadata": {
    "tags": []
   },
   "outputs": [
    {
     "output_type": "stream",
     "name": "stdout",
     "text": "Info: Retrieving results for hotels in city of: Turaif (SA).\nClosest hotel is Swiss Spirit Hotel & Suites Turaif. Guest rating is: 3.5 stars\nInfo: Retrieving results for hotels in city of: Alta Floresta (BR).\nClosest hotel is Floresta Amazonica Hotel. Guest rating is: 4.5 stars\nInfo: Retrieving results for hotels in city of: Hervey Bay (AU).\nClosest hotel is Shelly Bay Resort. Guest rating is: 4.7 stars\nInfo: Retrieving results for hotels in city of: Angoche (MZ).\nClosest hotel is Guest House HESADA. Guest rating is: 3.5 stars\nInfo: Retrieving results for hotels in city of: Charters Towers (AU).\nClosest hotel is Cattleman's Rest Motor Inn. Guest rating is: 4 stars\nInfo: Retrieving results for hotels in city of: Tegul'det (RU).\nClosest hotel is Gostinitsa Kedr. Guest rating is: 4.3 stars\nInfo: Retrieving results for hotels in city of: São Miguel do Araguaia (BR).\nClosest hotel is Hotel Executivo Palace. Guest rating is: 4.2 stars\nInfo: Retrieving results for hotels in city of: San Quintín (MX).\nClosest hotel is Old Mill Hotel. Guest rating is: 4.4 stars\nInfo: Retrieving results for hotels in city of: Kalabo (ZM).\nClosest hotel is Sikakubete Guest House Kalabo Town Council. Guest rating is: 3 stars\nInfo: Retrieving results for hotels in city of: Beloha (MG).\nMissing field/result for hotel... skipping this one.\nInfo: Retrieving results for hotels in city of: Ambovombe (MG).\nClosest hotel is MONJA Talilisoa. Guest rating is: 1 stars\nInfo: Retrieving results for hotels in city of: Sayyan (YE).\nMissing field/result for hotel... skipping this one.\nInfo: Retrieving results for hotels in city of: Saurimo (AO).\nClosest hotel is Hotel Kawissa Saurimo. Guest rating is: 3.1 stars\nInfo: Retrieving results for hotels in city of: Camalú (MX).\nClosest hotel is La Cueva del Pirata. Guest rating is: 4.2 stars\nInfo: Retrieving results for hotels in city of: Faya (SA).\nMissing field/result for hotel... skipping this one.\nInfo: Retrieving results for hotels in city of: Novoaleksandrovsk (RU).\nClosest hotel is Gostinitsa-Kafe Dizayn. Guest rating is: 3.1 stars\nInfo: Retrieving results for hotels in city of: Chornobay (UA).\nClosest hotel is Veselka. Guest rating is: 3.1 stars\nInfo: Retrieving results for hotels in city of: Cobija (BO).\nClosest hotel is Hotel Obelisco. Guest rating is: 4 stars\nInfo: Retrieving results for hotels in city of: Coxim (BR).\nClosest hotel is Hotel Avenida. Guest rating is: 3.4 stars\nInfo: Retrieving results for hotels in city of: Belle Glade (US).\nClosest hotel is Mid-City Trailer Park. Guest rating is: 3.2 stars\nInfo: Retrieving results for hotels in city of: Hatillo (PR).\nClosest hotel is Hotel Parador El Buen Cafe. Guest rating is: 4.2 stars\nInfo: Retrieving results for hotels in city of: Kolokani (ML).\nClosest hotel is Lycee Famolo Coulibalibali De Kolokani. Guest rating is: 4.2 stars\nInfo: Retrieving results for hotels in city of: Tyukhtet (RU).\nMissing field/result for hotel... skipping this one.\n"
    }
   ],
   "source": [
    "for index, row in hotel_df.iterrows():\n",
    "    lat = row['Lat']\n",
    "    lng = row['Long']\n",
    "    location = f\"{lat},{lng}\"\n",
    "    params['location'] = location\n",
    "    print(f\"Info: Retrieving results for hotels in city of: {row['City']} ({row['Country']}).\")\n",
    "    resp = requests.get(url, params = params)\n",
    "    data = resp.json()\n",
    "    results = data['results']\n",
    "    try:\n",
    "        print(f\"Closest hotel is {results[0]['name']}. Guest rating is: {results[0]['rating']} stars\")\n",
    "        hotel_df.loc[index, 'Hotel Name'] = results[0]['name']\n",
    "        hotel_df.loc[index, 'Hotel Rating'] = results[0]['rating']\n",
    "    except (KeyError, IndexError):\n",
    "        hotel_df.loc[index, 'Hotel Name'] = ('No Hotel Available')\n",
    "        print(f'Missing field/result for hotel... skipping this one.')"
   ]
  },
  {
   "cell_type": "code",
   "execution_count": 38,
   "metadata": {},
   "outputs": [
    {
     "output_type": "execute_result",
     "data": {
      "text/plain": "                       City    Lat    Long  Max Temp  Humidity  Cloudiness  \\\n73                   Turaif  31.67   38.66     77.00        44           0   \n90            Alta Floresta  -9.88  -56.09     70.29        40           0   \n134              Hervey Bay -25.30  152.85     73.40        27           0   \n150                 Angoche -16.23   39.91     77.83        67           0   \n157         Charters Towers -20.10  146.27     76.19        19           0   \n177               Tegul'det  57.31   88.17     76.01        40           0   \n198  São Miguel do Araguaia -13.28  -50.16     73.94        33           0   \n276             San Quintín  30.48 -115.95     73.26        72           0   \n319                  Kalabo -14.97   22.68     71.94        21           0   \n338                  Beloha -25.17   45.05     76.12        50           0   \n341               Ambovombe -25.17   46.08     74.48        57           0   \n354                  Sayyan  15.17   44.32     74.03        30           0   \n362                 Saurimo  -9.66   20.39     75.43        19           0   \n379                  Camalú  30.85 -116.07     73.62        72           0   \n386                    Faya  18.39   42.45     78.80        38           0   \n387       Novoaleksandrovsk  45.49   41.22     77.00        29           0   \n391               Chornobay  49.67   32.32     73.26        52           0   \n441                  Cobija -11.03  -68.77     75.65        57           0   \n449                   Coxim -18.51  -54.76     70.23        69           0   \n475             Belle Glade  26.68  -80.67     77.00        82           0   \n482                 Hatillo  18.49  -66.83     77.00        92           0   \n492                Kolokani  13.57   -8.03     73.27        91           0   \n509                Tyukhtet  56.54   89.30     73.71        51           0   \n\n     Wind Speed Country        Date  \\\n73         3.36      SA  1597647492   \n90         1.34      BR  1597647494   \n134        9.17      AU  1597647679   \n150        5.44      MZ  1597647683   \n157        3.76      AU  1597647684   \n177        7.58      RU  1597647689   \n198        4.18      BR  1597647695   \n276        3.38      MX  1597647714   \n319        6.13      ZM  1597647724   \n338        6.31      MG  1597647727   \n341        4.25      MG  1597647727   \n354        3.36      YE  1597647731   \n362        6.26      AO  1597647732   \n379        2.55      MX  1597647735   \n386        3.36      SA  1597647737   \n387        3.44      RU  1597647737   \n391        6.67      UA  1597647738   \n441        3.04      BO  1597647747   \n449        7.81      BR  1597647748   \n475        2.08      US  1597647753   \n482        1.99      PR  1597647754   \n492        5.10      ML  1597647756   \n509        8.01      RU  1597647758   \n\n                                     Hotel Name Hotel Rating  \n73           Swiss Spirit Hotel & Suites Turaif          3.5  \n90                     Floresta Amazonica Hotel          4.5  \n134                           Shelly Bay Resort          4.7  \n150                          Guest House HESADA          3.5  \n157                  Cattleman's Rest Motor Inn            4  \n177                             Gostinitsa Kedr          4.3  \n198                      Hotel Executivo Palace          4.2  \n276                              Old Mill Hotel          4.4  \n319  Sikakubete Guest House Kalabo Town Council            3  \n338                          No Hotel Available               \n341                             MONJA Talilisoa            1  \n354                          No Hotel Available               \n362                       Hotel Kawissa Saurimo          3.1  \n379                         La Cueva del Pirata          4.2  \n386                          No Hotel Available               \n387                      Gostinitsa-Kafe Dizayn          3.1  \n391                                     Veselka          3.1  \n441                              Hotel Obelisco            4  \n449                               Hotel Avenida          3.4  \n475                       Mid-City Trailer Park          3.2  \n482                  Hotel Parador El Buen Cafe          4.2  \n492      Lycee Famolo Coulibalibali De Kolokani          4.2  \n509                          No Hotel Available               ",
      "text/html": "<div>\n<style scoped>\n    .dataframe tbody tr th:only-of-type {\n        vertical-align: middle;\n    }\n\n    .dataframe tbody tr th {\n        vertical-align: top;\n    }\n\n    .dataframe thead th {\n        text-align: right;\n    }\n</style>\n<table border=\"1\" class=\"dataframe\">\n  <thead>\n    <tr style=\"text-align: right;\">\n      <th></th>\n      <th>City</th>\n      <th>Lat</th>\n      <th>Long</th>\n      <th>Max Temp</th>\n      <th>Humidity</th>\n      <th>Cloudiness</th>\n      <th>Wind Speed</th>\n      <th>Country</th>\n      <th>Date</th>\n      <th>Hotel Name</th>\n      <th>Hotel Rating</th>\n    </tr>\n  </thead>\n  <tbody>\n    <tr>\n      <th>73</th>\n      <td>Turaif</td>\n      <td>31.67</td>\n      <td>38.66</td>\n      <td>77.00</td>\n      <td>44</td>\n      <td>0</td>\n      <td>3.36</td>\n      <td>SA</td>\n      <td>1597647492</td>\n      <td>Swiss Spirit Hotel &amp; Suites Turaif</td>\n      <td>3.5</td>\n    </tr>\n    <tr>\n      <th>90</th>\n      <td>Alta Floresta</td>\n      <td>-9.88</td>\n      <td>-56.09</td>\n      <td>70.29</td>\n      <td>40</td>\n      <td>0</td>\n      <td>1.34</td>\n      <td>BR</td>\n      <td>1597647494</td>\n      <td>Floresta Amazonica Hotel</td>\n      <td>4.5</td>\n    </tr>\n    <tr>\n      <th>134</th>\n      <td>Hervey Bay</td>\n      <td>-25.30</td>\n      <td>152.85</td>\n      <td>73.40</td>\n      <td>27</td>\n      <td>0</td>\n      <td>9.17</td>\n      <td>AU</td>\n      <td>1597647679</td>\n      <td>Shelly Bay Resort</td>\n      <td>4.7</td>\n    </tr>\n    <tr>\n      <th>150</th>\n      <td>Angoche</td>\n      <td>-16.23</td>\n      <td>39.91</td>\n      <td>77.83</td>\n      <td>67</td>\n      <td>0</td>\n      <td>5.44</td>\n      <td>MZ</td>\n      <td>1597647683</td>\n      <td>Guest House HESADA</td>\n      <td>3.5</td>\n    </tr>\n    <tr>\n      <th>157</th>\n      <td>Charters Towers</td>\n      <td>-20.10</td>\n      <td>146.27</td>\n      <td>76.19</td>\n      <td>19</td>\n      <td>0</td>\n      <td>3.76</td>\n      <td>AU</td>\n      <td>1597647684</td>\n      <td>Cattleman's Rest Motor Inn</td>\n      <td>4</td>\n    </tr>\n    <tr>\n      <th>177</th>\n      <td>Tegul'det</td>\n      <td>57.31</td>\n      <td>88.17</td>\n      <td>76.01</td>\n      <td>40</td>\n      <td>0</td>\n      <td>7.58</td>\n      <td>RU</td>\n      <td>1597647689</td>\n      <td>Gostinitsa Kedr</td>\n      <td>4.3</td>\n    </tr>\n    <tr>\n      <th>198</th>\n      <td>São Miguel do Araguaia</td>\n      <td>-13.28</td>\n      <td>-50.16</td>\n      <td>73.94</td>\n      <td>33</td>\n      <td>0</td>\n      <td>4.18</td>\n      <td>BR</td>\n      <td>1597647695</td>\n      <td>Hotel Executivo Palace</td>\n      <td>4.2</td>\n    </tr>\n    <tr>\n      <th>276</th>\n      <td>San Quintín</td>\n      <td>30.48</td>\n      <td>-115.95</td>\n      <td>73.26</td>\n      <td>72</td>\n      <td>0</td>\n      <td>3.38</td>\n      <td>MX</td>\n      <td>1597647714</td>\n      <td>Old Mill Hotel</td>\n      <td>4.4</td>\n    </tr>\n    <tr>\n      <th>319</th>\n      <td>Kalabo</td>\n      <td>-14.97</td>\n      <td>22.68</td>\n      <td>71.94</td>\n      <td>21</td>\n      <td>0</td>\n      <td>6.13</td>\n      <td>ZM</td>\n      <td>1597647724</td>\n      <td>Sikakubete Guest House Kalabo Town Council</td>\n      <td>3</td>\n    </tr>\n    <tr>\n      <th>338</th>\n      <td>Beloha</td>\n      <td>-25.17</td>\n      <td>45.05</td>\n      <td>76.12</td>\n      <td>50</td>\n      <td>0</td>\n      <td>6.31</td>\n      <td>MG</td>\n      <td>1597647727</td>\n      <td>No Hotel Available</td>\n      <td></td>\n    </tr>\n    <tr>\n      <th>341</th>\n      <td>Ambovombe</td>\n      <td>-25.17</td>\n      <td>46.08</td>\n      <td>74.48</td>\n      <td>57</td>\n      <td>0</td>\n      <td>4.25</td>\n      <td>MG</td>\n      <td>1597647727</td>\n      <td>MONJA Talilisoa</td>\n      <td>1</td>\n    </tr>\n    <tr>\n      <th>354</th>\n      <td>Sayyan</td>\n      <td>15.17</td>\n      <td>44.32</td>\n      <td>74.03</td>\n      <td>30</td>\n      <td>0</td>\n      <td>3.36</td>\n      <td>YE</td>\n      <td>1597647731</td>\n      <td>No Hotel Available</td>\n      <td></td>\n    </tr>\n    <tr>\n      <th>362</th>\n      <td>Saurimo</td>\n      <td>-9.66</td>\n      <td>20.39</td>\n      <td>75.43</td>\n      <td>19</td>\n      <td>0</td>\n      <td>6.26</td>\n      <td>AO</td>\n      <td>1597647732</td>\n      <td>Hotel Kawissa Saurimo</td>\n      <td>3.1</td>\n    </tr>\n    <tr>\n      <th>379</th>\n      <td>Camalú</td>\n      <td>30.85</td>\n      <td>-116.07</td>\n      <td>73.62</td>\n      <td>72</td>\n      <td>0</td>\n      <td>2.55</td>\n      <td>MX</td>\n      <td>1597647735</td>\n      <td>La Cueva del Pirata</td>\n      <td>4.2</td>\n    </tr>\n    <tr>\n      <th>386</th>\n      <td>Faya</td>\n      <td>18.39</td>\n      <td>42.45</td>\n      <td>78.80</td>\n      <td>38</td>\n      <td>0</td>\n      <td>3.36</td>\n      <td>SA</td>\n      <td>1597647737</td>\n      <td>No Hotel Available</td>\n      <td></td>\n    </tr>\n    <tr>\n      <th>387</th>\n      <td>Novoaleksandrovsk</td>\n      <td>45.49</td>\n      <td>41.22</td>\n      <td>77.00</td>\n      <td>29</td>\n      <td>0</td>\n      <td>3.44</td>\n      <td>RU</td>\n      <td>1597647737</td>\n      <td>Gostinitsa-Kafe Dizayn</td>\n      <td>3.1</td>\n    </tr>\n    <tr>\n      <th>391</th>\n      <td>Chornobay</td>\n      <td>49.67</td>\n      <td>32.32</td>\n      <td>73.26</td>\n      <td>52</td>\n      <td>0</td>\n      <td>6.67</td>\n      <td>UA</td>\n      <td>1597647738</td>\n      <td>Veselka</td>\n      <td>3.1</td>\n    </tr>\n    <tr>\n      <th>441</th>\n      <td>Cobija</td>\n      <td>-11.03</td>\n      <td>-68.77</td>\n      <td>75.65</td>\n      <td>57</td>\n      <td>0</td>\n      <td>3.04</td>\n      <td>BO</td>\n      <td>1597647747</td>\n      <td>Hotel Obelisco</td>\n      <td>4</td>\n    </tr>\n    <tr>\n      <th>449</th>\n      <td>Coxim</td>\n      <td>-18.51</td>\n      <td>-54.76</td>\n      <td>70.23</td>\n      <td>69</td>\n      <td>0</td>\n      <td>7.81</td>\n      <td>BR</td>\n      <td>1597647748</td>\n      <td>Hotel Avenida</td>\n      <td>3.4</td>\n    </tr>\n    <tr>\n      <th>475</th>\n      <td>Belle Glade</td>\n      <td>26.68</td>\n      <td>-80.67</td>\n      <td>77.00</td>\n      <td>82</td>\n      <td>0</td>\n      <td>2.08</td>\n      <td>US</td>\n      <td>1597647753</td>\n      <td>Mid-City Trailer Park</td>\n      <td>3.2</td>\n    </tr>\n    <tr>\n      <th>482</th>\n      <td>Hatillo</td>\n      <td>18.49</td>\n      <td>-66.83</td>\n      <td>77.00</td>\n      <td>92</td>\n      <td>0</td>\n      <td>1.99</td>\n      <td>PR</td>\n      <td>1597647754</td>\n      <td>Hotel Parador El Buen Cafe</td>\n      <td>4.2</td>\n    </tr>\n    <tr>\n      <th>492</th>\n      <td>Kolokani</td>\n      <td>13.57</td>\n      <td>-8.03</td>\n      <td>73.27</td>\n      <td>91</td>\n      <td>0</td>\n      <td>5.10</td>\n      <td>ML</td>\n      <td>1597647756</td>\n      <td>Lycee Famolo Coulibalibali De Kolokani</td>\n      <td>4.2</td>\n    </tr>\n    <tr>\n      <th>509</th>\n      <td>Tyukhtet</td>\n      <td>56.54</td>\n      <td>89.30</td>\n      <td>73.71</td>\n      <td>51</td>\n      <td>0</td>\n      <td>8.01</td>\n      <td>RU</td>\n      <td>1597647758</td>\n      <td>No Hotel Available</td>\n      <td></td>\n    </tr>\n  </tbody>\n</table>\n</div>"
     },
     "metadata": {},
     "execution_count": 38
    }
   ],
   "source": [
    "hotel_df"
   ]
  },
  {
   "cell_type": "code",
   "execution_count": 62,
   "metadata": {},
   "outputs": [
    {
     "output_type": "display_data",
     "data": {
      "text/plain": "Figure(layout=FigureLayout(height='420px'))",
      "application/vnd.jupyter.widget-view+json": {
       "version_major": 2,
       "version_minor": 0,
       "model_id": "9fd51385ae53472e98e87a57bfe9cc13"
      }
     },
     "metadata": {}
    }
   ],
   "source": [
    "info_box_template = \"\"\"\n",
    "<dl>\n",
    "<dt>Name</dt><dd>{Hotel Name}</dd>\n",
    "<dt>City</dt><dd>{City}</dd>\n",
    "<dt>Country</dt><dd>{Country}</dd>\n",
    "</dl>\n",
    "\"\"\"\n",
    "hotel_info = [info_box_template.format(**row) for index, row in hotel_df.iterrows()]\n",
    "locations = hotel_df[[\"Lat\", \"Long\"]]\n",
    "# city = hotel_df['City']\n",
    "# hotel_name = hotel_df['Hotel Name']\n",
    "# hover_text = f\"{city},{hotel_name}\"\n",
    "marker_layer = gmaps.marker_layer(locations, info_box_content=hotel_info)\n",
    "fig.add_layer(marker_layer)\n",
    "fig"
   ]
  },
  {
   "cell_type": "code",
   "execution_count": null,
   "metadata": {},
   "outputs": [],
   "source": []
  }
 ],
 "metadata": {
  "kernelspec": {
   "name": "python_defaultSpec_1597686952850",
   "display_name": "Python 3.6.10 64-bit ('PythonData': conda)"
  }
 },
 "nbformat": 4,
 "nbformat_minor": 4
}