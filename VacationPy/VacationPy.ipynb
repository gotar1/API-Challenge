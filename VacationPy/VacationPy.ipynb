{
 "cells": [
  {
   "cell_type": "code",
   "execution_count": 1,
   "metadata": {},
   "outputs": [],
   "source": [
    "import matplotlib.pyplot as plt\n",
    "import pandas as pd\n",
    "import numpy as np\n",
    "import requests\n",
    "import gmaps\n",
    "import os\n",
    "from api_keys import g_key\n",
    "import time"
   ]
  },
  {
   "cell_type": "code",
   "execution_count": 10,
   "metadata": {},
   "outputs": [
    {
     "output_type": "execute_result",
     "data": {
      "text/plain": "        City    Lat    Long  Max Temp  Humidity  Cloudiness  Wind Speed  \\\n0     Albany  42.60  -73.97     79.00        66          44        4.05   \n1    Kavieng  -2.57  150.80     81.75        79           9       10.45   \n2  Flin Flon  54.77 -101.86     60.80        72          75       12.75   \n3    Ushuaia -54.80  -68.30     33.80        86          75        4.68   \n4     Broome  42.25  -75.83     78.01        68          75        6.93   \n\n  Country        Date  \n0      US  1597687692  \n1      PG  1597687753  \n2      CA  1597687753  \n3      AR  1597687538  \n4      US  1597687753  ",
      "text/html": "<div>\n<style scoped>\n    .dataframe tbody tr th:only-of-type {\n        vertical-align: middle;\n    }\n\n    .dataframe tbody tr th {\n        vertical-align: top;\n    }\n\n    .dataframe thead th {\n        text-align: right;\n    }\n</style>\n<table border=\"1\" class=\"dataframe\">\n  <thead>\n    <tr style=\"text-align: right;\">\n      <th></th>\n      <th>City</th>\n      <th>Lat</th>\n      <th>Long</th>\n      <th>Max Temp</th>\n      <th>Humidity</th>\n      <th>Cloudiness</th>\n      <th>Wind Speed</th>\n      <th>Country</th>\n      <th>Date</th>\n    </tr>\n  </thead>\n  <tbody>\n    <tr>\n      <th>0</th>\n      <td>Albany</td>\n      <td>42.60</td>\n      <td>-73.97</td>\n      <td>79.00</td>\n      <td>66</td>\n      <td>44</td>\n      <td>4.05</td>\n      <td>US</td>\n      <td>1597687692</td>\n    </tr>\n    <tr>\n      <th>1</th>\n      <td>Kavieng</td>\n      <td>-2.57</td>\n      <td>150.80</td>\n      <td>81.75</td>\n      <td>79</td>\n      <td>9</td>\n      <td>10.45</td>\n      <td>PG</td>\n      <td>1597687753</td>\n    </tr>\n    <tr>\n      <th>2</th>\n      <td>Flin Flon</td>\n      <td>54.77</td>\n      <td>-101.86</td>\n      <td>60.80</td>\n      <td>72</td>\n      <td>75</td>\n      <td>12.75</td>\n      <td>CA</td>\n      <td>1597687753</td>\n    </tr>\n    <tr>\n      <th>3</th>\n      <td>Ushuaia</td>\n      <td>-54.80</td>\n      <td>-68.30</td>\n      <td>33.80</td>\n      <td>86</td>\n      <td>75</td>\n      <td>4.68</td>\n      <td>AR</td>\n      <td>1597687538</td>\n    </tr>\n    <tr>\n      <th>4</th>\n      <td>Broome</td>\n      <td>42.25</td>\n      <td>-75.83</td>\n      <td>78.01</td>\n      <td>68</td>\n      <td>75</td>\n      <td>6.93</td>\n      <td>US</td>\n      <td>1597687753</td>\n    </tr>\n  </tbody>\n</table>\n</div>"
     },
     "metadata": {},
     "execution_count": 10
    }
   ],
   "source": [
    "file_path = \"../WeatherPy/output_data/cities.csv\"\n",
    "cities_data = pd.read_csv(file_path)\n",
    "cities_data.head()"
   ]
  },
  {
   "cell_type": "code",
   "execution_count": 28,
   "metadata": {},
   "outputs": [
    {
     "output_type": "display_data",
     "data": {
      "text/plain": "Figure(layout=FigureLayout(height='420px'))",
      "application/vnd.jupyter.widget-view+json": {
       "version_major": 2,
       "version_minor": 0,
       "model_id": "9dd7fa3c51354f1f89926e028c31b4df"
      }
     },
     "metadata": {}
    }
   ],
   "source": [
    "gmaps.configure(api_key=g_key)\n",
    "figure_layout = {\n",
    "    'width': '400px',\n",
    "    'height': '420px',\n",
    "    'border': '1px solid black',\n",
    "    'padding': '1px'\n",
    "}\n",
    "gmaps.figure(center=(30.0, 31.0), zoom_level=2)\n",
    "locations = cities_data[['Lat', 'Long']]\n",
    "weight = cities_data['Humidity']\n",
    "fig = gmaps.figure()\n",
    "heatmap_layer = gmaps.heatmap_layer(locations, weights=weight, dissipating=False, max_intensity = 100, point_radius = 1)\n",
    "fig.add_layer(heatmap_layer)\n",
    "fig"
   ]
  },
  {
   "cell_type": "code",
   "execution_count": 63,
   "metadata": {
    "tags": []
   },
   "outputs": [
    {
     "output_type": "stream",
     "name": "stdout",
     "text": "Lat    Long\n73   31.67   38.66\n90   -9.88  -56.09\n134 -25.30  152.85\n150 -16.23   39.91\n157 -20.10  146.27\n177  57.31   88.17\n198 -13.28  -50.16\n276  30.48 -115.95\n319 -14.97   22.68\n338 -25.17   45.05\n341 -25.17   46.08\n354  15.17   44.32\n362  -9.66   20.39\n379  30.85 -116.07\n386  18.39   42.45\n387  45.49   41.22\n391  49.67   32.32\n441 -11.03  -68.77\n449 -18.51  -54.76\n475  26.68  -80.67\n482  18.49  -66.83\n492  13.57   -8.03\n509  56.54   89.30\n"
    }
   ],
   "source": [
    "print(locations)"
   ]
  },
  {
   "cell_type": "code",
   "execution_count": 22,
   "metadata": {},
   "outputs": [
    {
     "output_type": "execute_result",
     "data": {
      "text/plain": "            City    Lat    Long  Max Temp  Humidity  Cloudiness  Wind Speed  \\\n150      Angoche -16.23   39.91     73.20        82           0        9.17   \n180   Swan River  52.11 -101.27     74.34        58           0        1.52   \n185     Matsuura  33.33  129.72     77.00        74           0        4.68   \n205       Jining  35.41  116.58     79.27        92           0        6.89   \n261  Três Passos -27.46  -53.93     75.00        70           0        3.00   \n\n    Country        Date Hotel Name Hotel Rating  \n150      MZ  1597687777                          \n180      CA  1597687782                          \n185      JP  1597687783                          \n205      CN  1597687786                          \n261      BR  1597687795                          ",
      "text/html": "<div>\n<style scoped>\n    .dataframe tbody tr th:only-of-type {\n        vertical-align: middle;\n    }\n\n    .dataframe tbody tr th {\n        vertical-align: top;\n    }\n\n    .dataframe thead th {\n        text-align: right;\n    }\n</style>\n<table border=\"1\" class=\"dataframe\">\n  <thead>\n    <tr style=\"text-align: right;\">\n      <th></th>\n      <th>City</th>\n      <th>Lat</th>\n      <th>Long</th>\n      <th>Max Temp</th>\n      <th>Humidity</th>\n      <th>Cloudiness</th>\n      <th>Wind Speed</th>\n      <th>Country</th>\n      <th>Date</th>\n      <th>Hotel Name</th>\n      <th>Hotel Rating</th>\n    </tr>\n  </thead>\n  <tbody>\n    <tr>\n      <th>150</th>\n      <td>Angoche</td>\n      <td>-16.23</td>\n      <td>39.91</td>\n      <td>73.20</td>\n      <td>82</td>\n      <td>0</td>\n      <td>9.17</td>\n      <td>MZ</td>\n      <td>1597687777</td>\n      <td></td>\n      <td></td>\n    </tr>\n    <tr>\n      <th>180</th>\n      <td>Swan River</td>\n      <td>52.11</td>\n      <td>-101.27</td>\n      <td>74.34</td>\n      <td>58</td>\n      <td>0</td>\n      <td>1.52</td>\n      <td>CA</td>\n      <td>1597687782</td>\n      <td></td>\n      <td></td>\n    </tr>\n    <tr>\n      <th>185</th>\n      <td>Matsuura</td>\n      <td>33.33</td>\n      <td>129.72</td>\n      <td>77.00</td>\n      <td>74</td>\n      <td>0</td>\n      <td>4.68</td>\n      <td>JP</td>\n      <td>1597687783</td>\n      <td></td>\n      <td></td>\n    </tr>\n    <tr>\n      <th>205</th>\n      <td>Jining</td>\n      <td>35.41</td>\n      <td>116.58</td>\n      <td>79.27</td>\n      <td>92</td>\n      <td>0</td>\n      <td>6.89</td>\n      <td>CN</td>\n      <td>1597687786</td>\n      <td></td>\n      <td></td>\n    </tr>\n    <tr>\n      <th>261</th>\n      <td>Três Passos</td>\n      <td>-27.46</td>\n      <td>-53.93</td>\n      <td>75.00</td>\n      <td>70</td>\n      <td>0</td>\n      <td>3.00</td>\n      <td>BR</td>\n      <td>1597687795</td>\n      <td></td>\n      <td></td>\n    </tr>\n  </tbody>\n</table>\n</div>"
     },
     "metadata": {},
     "execution_count": 22
    }
   ],
   "source": [
    "hotel_df = cities_data.loc[(cities_data[\"Max Temp\"] > 70) & (cities_data[\"Max Temp\"] < 80) & (\n",
    "        cities_data[\"Wind Speed\"] < 10) & (cities_data[\"Cloudiness\"] == 0 )]\n",
    "hotel_df['Hotel Name'] = ''\n",
    "hotel_df['Hotel Rating'] = ''\n",
    "hotel_df.head()"
   ]
  },
  {
   "cell_type": "code",
   "execution_count": 23,
   "metadata": {
    "tags": []
   },
   "outputs": [
    {
     "output_type": "execute_result",
     "data": {
      "text/plain": "<Response [200]>"
     },
     "metadata": {},
     "execution_count": 23
    }
   ],
   "source": [
    "url = 'https://maps.googleapis.com/maps/api/place/nearbysearch/json?'\n",
    "params = {\n",
    "    'type': 'lodging',\n",
    "    'radius': 5000,\n",
    "    'key': g_key\n",
    "}\n",
    "resp = requests.get(url, params = params)\n",
    "resp"
   ]
  },
  {
   "cell_type": "code",
   "execution_count": 24,
   "metadata": {
    "tags": []
   },
   "outputs": [
    {
     "output_type": "stream",
     "name": "stdout",
     "text": "Info: Retrieving results for hotels in city of: Angoche (MZ).\nClosest hotel is Guest House HESADA. Guest rating is: 3.5 stars\nInfo: Retrieving results for hotels in city of: Swan River (CA).\nClosest hotel is Super 8 by Wyndham Swan River MB. Guest rating is: 4 stars\nInfo: Retrieving results for hotels in city of: Matsuura (JP).\nClosest hotel is 割烹旅館鶴屋. Guest rating is: 4.1 stars\nInfo: Retrieving results for hotels in city of: Jining (CN).\nMissing field/result for hotel... skipping this one.\nInfo: Retrieving results for hotels in city of: Três Passos (BR).\nClosest hotel is Hotel Imperial. Guest rating is: 4.2 stars\nInfo: Retrieving results for hotels in city of: Stubbekøbing (DK).\nClosest hotel is Under Valnødden. Guest rating is: 4.8 stars\nInfo: Retrieving results for hotels in city of: Kumul (CN).\nMissing field/result for hotel... skipping this one.\nInfo: Retrieving results for hotels in city of: Villa María (AR).\nClosest hotel is Hotel Milenium. Guest rating is: 4.2 stars\nInfo: Retrieving results for hotels in city of: Kalabo (ZM).\nClosest hotel is Sikakubete Guest House Kalabo Town Council. Guest rating is: 3 stars\nInfo: Retrieving results for hotels in city of: La Rioja (AR).\nClosest hotel is Hotel Libertador. Guest rating is: 3.2 stars\nInfo: Retrieving results for hotels in city of: Katherine (AU).\nClosest hotel is Pine Tree Motel. Guest rating is: 3.8 stars\n"
    }
   ],
   "source": [
    "for index, row in hotel_df.iterrows():\n",
    "    lat = row['Lat']\n",
    "    lng = row['Long']\n",
    "    location = f\"{lat},{lng}\"\n",
    "    params['location'] = location\n",
    "    print(f\"Info: Retrieving results for hotels in city of: {row['City']} ({row['Country']}).\")\n",
    "    resp = requests.get(url, params = params)\n",
    "    data = resp.json()\n",
    "    results = data['results']\n",
    "    try:\n",
    "        print(f\"Closest hotel is {results[0]['name']}. Guest rating is: {results[0]['rating']} stars\")\n",
    "        hotel_df.loc[index, 'Hotel Name'] = results[0]['name']\n",
    "        hotel_df.loc[index, 'Hotel Rating'] = results[0]['rating']\n",
    "    except (KeyError, IndexError):\n",
    "        hotel_df.loc[index, 'Hotel Name'] = ('No Hotel Available')\n",
    "        print(f'Missing field/result for hotel... skipping this one.')"
   ]
  },
  {
   "cell_type": "code",
   "execution_count": 25,
   "metadata": {},
   "outputs": [
    {
     "output_type": "execute_result",
     "data": {
      "text/plain": "             City    Lat    Long  Max Temp  Humidity  Cloudiness  Wind Speed  \\\n150       Angoche -16.23   39.91     73.20        82           0        9.17   \n180    Swan River  52.11 -101.27     74.34        58           0        1.52   \n185      Matsuura  33.33  129.72     77.00        74           0        4.68   \n205        Jining  35.41  116.58     79.27        92           0        6.89   \n261   Três Passos -27.46  -53.93     75.00        70           0        3.00   \n269  Stubbekøbing  54.89   12.04     73.99        51           0        5.01   \n278         Kumul  42.80   93.45     78.40        17           0        8.88   \n296   Villa María -32.41  -63.24     73.99        18           0        1.99   \n319        Kalabo -14.97   22.68     71.73        19           0        2.71   \n518      La Rioja -29.41  -66.85     71.31        22           0        5.68   \n528     Katherine -14.47  132.27     77.00        31           0        5.82   \n\n    Country        Date                                  Hotel Name  \\\n150      MZ  1597687777                          Guest House HESADA   \n180      CA  1597687782            Super 8 by Wyndham Swan River MB   \n185      JP  1597687783                                      割烹旅館鶴屋   \n205      CN  1597687786                          No Hotel Available   \n261      BR  1597687795                              Hotel Imperial   \n269      DK  1597687796                             Under Valnødden   \n278      CN  1597687798                          No Hotel Available   \n296      AR  1597687801                              Hotel Milenium   \n319      ZM  1597687805  Sikakubete Guest House Kalabo Town Council   \n518      AR  1597687784                            Hotel Libertador   \n528      AU  1597687839                             Pine Tree Motel   \n\n    Hotel Rating  \n150          3.5  \n180            4  \n185          4.1  \n205               \n261          4.2  \n269          4.8  \n278               \n296          4.2  \n319            3  \n518          3.2  \n528          3.8  ",
      "text/html": "<div>\n<style scoped>\n    .dataframe tbody tr th:only-of-type {\n        vertical-align: middle;\n    }\n\n    .dataframe tbody tr th {\n        vertical-align: top;\n    }\n\n    .dataframe thead th {\n        text-align: right;\n    }\n</style>\n<table border=\"1\" class=\"dataframe\">\n  <thead>\n    <tr style=\"text-align: right;\">\n      <th></th>\n      <th>City</th>\n      <th>Lat</th>\n      <th>Long</th>\n      <th>Max Temp</th>\n      <th>Humidity</th>\n      <th>Cloudiness</th>\n      <th>Wind Speed</th>\n      <th>Country</th>\n      <th>Date</th>\n      <th>Hotel Name</th>\n      <th>Hotel Rating</th>\n    </tr>\n  </thead>\n  <tbody>\n    <tr>\n      <th>150</th>\n      <td>Angoche</td>\n      <td>-16.23</td>\n      <td>39.91</td>\n      <td>73.20</td>\n      <td>82</td>\n      <td>0</td>\n      <td>9.17</td>\n      <td>MZ</td>\n      <td>1597687777</td>\n      <td>Guest House HESADA</td>\n      <td>3.5</td>\n    </tr>\n    <tr>\n      <th>180</th>\n      <td>Swan River</td>\n      <td>52.11</td>\n      <td>-101.27</td>\n      <td>74.34</td>\n      <td>58</td>\n      <td>0</td>\n      <td>1.52</td>\n      <td>CA</td>\n      <td>1597687782</td>\n      <td>Super 8 by Wyndham Swan River MB</td>\n      <td>4</td>\n    </tr>\n    <tr>\n      <th>185</th>\n      <td>Matsuura</td>\n      <td>33.33</td>\n      <td>129.72</td>\n      <td>77.00</td>\n      <td>74</td>\n      <td>0</td>\n      <td>4.68</td>\n      <td>JP</td>\n      <td>1597687783</td>\n      <td>割烹旅館鶴屋</td>\n      <td>4.1</td>\n    </tr>\n    <tr>\n      <th>205</th>\n      <td>Jining</td>\n      <td>35.41</td>\n      <td>116.58</td>\n      <td>79.27</td>\n      <td>92</td>\n      <td>0</td>\n      <td>6.89</td>\n      <td>CN</td>\n      <td>1597687786</td>\n      <td>No Hotel Available</td>\n      <td></td>\n    </tr>\n    <tr>\n      <th>261</th>\n      <td>Três Passos</td>\n      <td>-27.46</td>\n      <td>-53.93</td>\n      <td>75.00</td>\n      <td>70</td>\n      <td>0</td>\n      <td>3.00</td>\n      <td>BR</td>\n      <td>1597687795</td>\n      <td>Hotel Imperial</td>\n      <td>4.2</td>\n    </tr>\n    <tr>\n      <th>269</th>\n      <td>Stubbekøbing</td>\n      <td>54.89</td>\n      <td>12.04</td>\n      <td>73.99</td>\n      <td>51</td>\n      <td>0</td>\n      <td>5.01</td>\n      <td>DK</td>\n      <td>1597687796</td>\n      <td>Under Valnødden</td>\n      <td>4.8</td>\n    </tr>\n    <tr>\n      <th>278</th>\n      <td>Kumul</td>\n      <td>42.80</td>\n      <td>93.45</td>\n      <td>78.40</td>\n      <td>17</td>\n      <td>0</td>\n      <td>8.88</td>\n      <td>CN</td>\n      <td>1597687798</td>\n      <td>No Hotel Available</td>\n      <td></td>\n    </tr>\n    <tr>\n      <th>296</th>\n      <td>Villa María</td>\n      <td>-32.41</td>\n      <td>-63.24</td>\n      <td>73.99</td>\n      <td>18</td>\n      <td>0</td>\n      <td>1.99</td>\n      <td>AR</td>\n      <td>1597687801</td>\n      <td>Hotel Milenium</td>\n      <td>4.2</td>\n    </tr>\n    <tr>\n      <th>319</th>\n      <td>Kalabo</td>\n      <td>-14.97</td>\n      <td>22.68</td>\n      <td>71.73</td>\n      <td>19</td>\n      <td>0</td>\n      <td>2.71</td>\n      <td>ZM</td>\n      <td>1597687805</td>\n      <td>Sikakubete Guest House Kalabo Town Council</td>\n      <td>3</td>\n    </tr>\n    <tr>\n      <th>518</th>\n      <td>La Rioja</td>\n      <td>-29.41</td>\n      <td>-66.85</td>\n      <td>71.31</td>\n      <td>22</td>\n      <td>0</td>\n      <td>5.68</td>\n      <td>AR</td>\n      <td>1597687784</td>\n      <td>Hotel Libertador</td>\n      <td>3.2</td>\n    </tr>\n    <tr>\n      <th>528</th>\n      <td>Katherine</td>\n      <td>-14.47</td>\n      <td>132.27</td>\n      <td>77.00</td>\n      <td>31</td>\n      <td>0</td>\n      <td>5.82</td>\n      <td>AU</td>\n      <td>1597687839</td>\n      <td>Pine Tree Motel</td>\n      <td>3.8</td>\n    </tr>\n  </tbody>\n</table>\n</div>"
     },
     "metadata": {},
     "execution_count": 25
    }
   ],
   "source": [
    "hotel_df"
   ]
  },
  {
   "cell_type": "code",
   "execution_count": 26,
   "metadata": {},
   "outputs": [
    {
     "output_type": "display_data",
     "data": {
      "text/plain": "Figure(layout=FigureLayout(height='420px'))",
      "application/vnd.jupyter.widget-view+json": {
       "version_major": 2,
       "version_minor": 0,
       "model_id": "9a4bcc795de648b9a92c05b4ad13d707"
      }
     },
     "metadata": {}
    }
   ],
   "source": [
    "info_box_template = \"\"\"\n",
    "<dl>\n",
    "<dt>Name</dt><dd>{Hotel Name}</dd>\n",
    "<dt>City</dt><dd>{City}</dd>\n",
    "<dt>Country</dt><dd>{Country}</dd>\n",
    "</dl>\n",
    "\"\"\"\n",
    "hotel_info = [info_box_template.format(**row) for index, row in hotel_df.iterrows()]\n",
    "locations = hotel_df[[\"Lat\", \"Long\"]]\n",
    "marker_layer = gmaps.marker_layer(locations, info_box_content=hotel_info)\n",
    "fig.add_layer(marker_layer)\n",
    "fig"
   ]
  },
  {
   "cell_type": "code",
   "execution_count": null,
   "metadata": {},
   "outputs": [],
   "source": []
  }
 ],
 "metadata": {
  "kernelspec": {
   "name": "python_defaultSpec_1597768327326",
   "display_name": "Python 3.6.10 64-bit ('PythonData': conda)"
  }
 },
 "nbformat": 4,
 "nbformat_minor": 4
}