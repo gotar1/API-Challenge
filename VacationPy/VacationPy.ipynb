{
 "cells": [
  {
   "cell_type": "code",
   "execution_count": 2,
   "metadata": {},
   "outputs": [],
   "source": [
    "# Dependencies and Setup\n",
    "import matplotlib.pyplot as plt\n",
    "import pandas as pd\n",
    "import numpy as np\n",
    "import requests\n",
    "import gmaps\n",
    "import os\n",
    "import time\n",
    "\n",
    "# Import API key\n",
    "from api_keys import g_key\n"
   ]
  },
  {
   "source": [
    "### Store Part I results into DataFrame\n",
    "* Load the csv exported in Part I to a DataFrame"
   ],
   "cell_type": "markdown",
   "metadata": {}
  },
  {
   "cell_type": "code",
   "execution_count": 3,
   "metadata": {},
   "outputs": [
    {
     "output_type": "execute_result",
     "data": {
      "text/plain": [
       "        City    Lat    Long  Max Temp  Humidity  Cloudiness  Wind Speed  \\\n",
       "0     Albany  42.60  -73.97     79.00        66          44        4.05   \n",
       "1    Kavieng  -2.57  150.80     81.75        79           9       10.45   \n",
       "2  Flin Flon  54.77 -101.86     60.80        72          75       12.75   \n",
       "3    Ushuaia -54.80  -68.30     33.80        86          75        4.68   \n",
       "4     Broome  42.25  -75.83     78.01        68          75        6.93   \n",
       "\n",
       "  Country        Date  \n",
       "0      US  1597687692  \n",
       "1      PG  1597687753  \n",
       "2      CA  1597687753  \n",
       "3      AR  1597687538  \n",
       "4      US  1597687753  "
      ],
      "text/html": "<div>\n<style scoped>\n    .dataframe tbody tr th:only-of-type {\n        vertical-align: middle;\n    }\n\n    .dataframe tbody tr th {\n        vertical-align: top;\n    }\n\n    .dataframe thead th {\n        text-align: right;\n    }\n</style>\n<table border=\"1\" class=\"dataframe\">\n  <thead>\n    <tr style=\"text-align: right;\">\n      <th></th>\n      <th>City</th>\n      <th>Lat</th>\n      <th>Long</th>\n      <th>Max Temp</th>\n      <th>Humidity</th>\n      <th>Cloudiness</th>\n      <th>Wind Speed</th>\n      <th>Country</th>\n      <th>Date</th>\n    </tr>\n  </thead>\n  <tbody>\n    <tr>\n      <th>0</th>\n      <td>Albany</td>\n      <td>42.60</td>\n      <td>-73.97</td>\n      <td>79.00</td>\n      <td>66</td>\n      <td>44</td>\n      <td>4.05</td>\n      <td>US</td>\n      <td>1597687692</td>\n    </tr>\n    <tr>\n      <th>1</th>\n      <td>Kavieng</td>\n      <td>-2.57</td>\n      <td>150.80</td>\n      <td>81.75</td>\n      <td>79</td>\n      <td>9</td>\n      <td>10.45</td>\n      <td>PG</td>\n      <td>1597687753</td>\n    </tr>\n    <tr>\n      <th>2</th>\n      <td>Flin Flon</td>\n      <td>54.77</td>\n      <td>-101.86</td>\n      <td>60.80</td>\n      <td>72</td>\n      <td>75</td>\n      <td>12.75</td>\n      <td>CA</td>\n      <td>1597687753</td>\n    </tr>\n    <tr>\n      <th>3</th>\n      <td>Ushuaia</td>\n      <td>-54.80</td>\n      <td>-68.30</td>\n      <td>33.80</td>\n      <td>86</td>\n      <td>75</td>\n      <td>4.68</td>\n      <td>AR</td>\n      <td>1597687538</td>\n    </tr>\n    <tr>\n      <th>4</th>\n      <td>Broome</td>\n      <td>42.25</td>\n      <td>-75.83</td>\n      <td>78.01</td>\n      <td>68</td>\n      <td>75</td>\n      <td>6.93</td>\n      <td>US</td>\n      <td>1597687753</td>\n    </tr>\n  </tbody>\n</table>\n</div>"
     },
     "metadata": {},
     "execution_count": 3
    }
   ],
   "source": [
    "# Store csv created in part one into a DataFrame\n",
    "file_path = \"../WeatherPy/output_data/cities.csv\"\n",
    "cities_data = pd.read_csv(file_path)\n",
    "cities_data.head()"
   ]
  },
  {
   "source": [
    "### Humidity Heatmap\n",
    "* Configure gmaps.\n",
    "* Use the Lat and Lng as locations and Humidity as the weight.\n",
    "* Add Heatmap layer to map."
   ],
   "cell_type": "markdown",
   "metadata": {}
  },
  {
   "cell_type": "code",
   "execution_count": 5,
   "metadata": {},
   "outputs": [
    {
     "output_type": "display_data",
     "data": {
      "text/plain": "Figure(layout=FigureLayout(height='420px'))",
      "application/vnd.jupyter.widget-view+json": {
       "version_major": 2,
       "version_minor": 0,
       "model_id": "479e025c16124d0e83cb1f9813b71382"
      }
     },
     "metadata": {}
    }
   ],
   "source": [
    "# Heatmap of humidity\n",
    "gmaps.configure(api_key=g_key)\n",
    "\n",
    "figure_layout = {\n",
    "    'width': '400px',\n",
    "    'height': '420px',\n",
    "    'border': '1px solid black',\n",
    "    'padding': '1px'\n",
    "}\n",
    "gmaps.figure(center=(30.0, 31.0), zoom_level=2)\n",
    "locations = cities_data[['Lat', 'Long']]\n",
    "weight = cities_data['Humidity']\n",
    "fig = gmaps.figure()\n",
    "heatmap_layer = gmaps.heatmap_layer(locations, weights=weight, dissipating=False, max_intensity = 300, point_radius = 5)\n",
    "\n",
    "fig.add_layer(heatmap_layer)\n",
    "fig"
   ]
  },
  {
   "source": [
    "### Create new DataFrame fitting weather criteria\n",
    "* Narrow down the cities to fit weather conditions.\n",
    "* Drop any rows with null values.\n",
    "* Add a \"Hotel Name\" and \"Hotel Rating\" columns to the DataFrame."
   ],
   "cell_type": "markdown",
   "metadata": {}
  },
  {
   "cell_type": "code",
   "execution_count": 6,
   "metadata": {},
   "outputs": [
    {
     "output_type": "execute_result",
     "data": {
      "text/plain": [
       "            City    Lat    Long  Max Temp  Humidity  Cloudiness  Wind Speed  \\\n",
       "150      Angoche -16.23   39.91     73.20        82           0        9.17   \n",
       "180   Swan River  52.11 -101.27     74.34        58           0        1.52   \n",
       "185     Matsuura  33.33  129.72     77.00        74           0        4.68   \n",
       "205       Jining  35.41  116.58     79.27        92           0        6.89   \n",
       "261  Três Passos -27.46  -53.93     75.00        70           0        3.00   \n",
       "\n",
       "    Country        Date Hotel Name Hotel Rating  \n",
       "150      MZ  1597687777                          \n",
       "180      CA  1597687782                          \n",
       "185      JP  1597687783                          \n",
       "205      CN  1597687786                          \n",
       "261      BR  1597687795                          "
      ],
      "text/html": "<div>\n<style scoped>\n    .dataframe tbody tr th:only-of-type {\n        vertical-align: middle;\n    }\n\n    .dataframe tbody tr th {\n        vertical-align: top;\n    }\n\n    .dataframe thead th {\n        text-align: right;\n    }\n</style>\n<table border=\"1\" class=\"dataframe\">\n  <thead>\n    <tr style=\"text-align: right;\">\n      <th></th>\n      <th>City</th>\n      <th>Lat</th>\n      <th>Long</th>\n      <th>Max Temp</th>\n      <th>Humidity</th>\n      <th>Cloudiness</th>\n      <th>Wind Speed</th>\n      <th>Country</th>\n      <th>Date</th>\n      <th>Hotel Name</th>\n      <th>Hotel Rating</th>\n    </tr>\n  </thead>\n  <tbody>\n    <tr>\n      <th>150</th>\n      <td>Angoche</td>\n      <td>-16.23</td>\n      <td>39.91</td>\n      <td>73.20</td>\n      <td>82</td>\n      <td>0</td>\n      <td>9.17</td>\n      <td>MZ</td>\n      <td>1597687777</td>\n      <td></td>\n      <td></td>\n    </tr>\n    <tr>\n      <th>180</th>\n      <td>Swan River</td>\n      <td>52.11</td>\n      <td>-101.27</td>\n      <td>74.34</td>\n      <td>58</td>\n      <td>0</td>\n      <td>1.52</td>\n      <td>CA</td>\n      <td>1597687782</td>\n      <td></td>\n      <td></td>\n    </tr>\n    <tr>\n      <th>185</th>\n      <td>Matsuura</td>\n      <td>33.33</td>\n      <td>129.72</td>\n      <td>77.00</td>\n      <td>74</td>\n      <td>0</td>\n      <td>4.68</td>\n      <td>JP</td>\n      <td>1597687783</td>\n      <td></td>\n      <td></td>\n    </tr>\n    <tr>\n      <th>205</th>\n      <td>Jining</td>\n      <td>35.41</td>\n      <td>116.58</td>\n      <td>79.27</td>\n      <td>92</td>\n      <td>0</td>\n      <td>6.89</td>\n      <td>CN</td>\n      <td>1597687786</td>\n      <td></td>\n      <td></td>\n    </tr>\n    <tr>\n      <th>261</th>\n      <td>Três Passos</td>\n      <td>-27.46</td>\n      <td>-53.93</td>\n      <td>75.00</td>\n      <td>70</td>\n      <td>0</td>\n      <td>3.00</td>\n      <td>BR</td>\n      <td>1597687795</td>\n      <td></td>\n      <td></td>\n    </tr>\n  </tbody>\n</table>\n</div>"
     },
     "metadata": {},
     "execution_count": 6
    }
   ],
   "source": [
    "# Narrow down cities that fit criteria and drop any results with null values\n",
    "hotel_df = cities_data.loc[(cities_data[\"Max Temp\"] > 70) & (cities_data[\"Max Temp\"] < 80) \\\n",
    "                        & (cities_data[\"Wind Speed\"] < 10) \\\n",
    "                        & (cities_data[\"Cloudiness\"] == 0 )].dropna()\n",
    "\n",
    "# add empty columns \"Hotel Name\" and \"Hotel Rating\"\n",
    "hotel_df['Hotel Name'] = ''\n",
    "hotel_df['Hotel Rating'] = ''\n",
    "\n",
    "# show df\n",
    "hotel_df.head()"
   ]
  },
  {
   "source": [
    "### Hotel Map\n",
    "* Store into variable named `hotel_df`.\n",
    "* Set parameters to search for hotels with 5000 meters.\n",
    "* Hit the Google Places API for each city's coordinates.\n",
    "* Store the first Hotel result into the DataFrame.\n",
    "* Plot markers on top of the heatmap."
   ],
   "cell_type": "markdown",
   "metadata": {}
  },
  {
   "cell_type": "code",
   "execution_count": 7,
   "metadata": {
    "tags": []
   },
   "outputs": [
    {
     "output_type": "execute_result",
     "data": {
      "text/plain": [
       "<Response [200]>"
      ]
     },
     "metadata": {},
     "execution_count": 7
    }
   ],
   "source": [
    "# set up base url for API call\n",
    "url = 'https://maps.googleapis.com/maps/api/place/nearbysearch/json?'\n",
    "\n",
    "# Set parameters to search for a hotel\n",
    "params = {\n",
    "    'type': 'lodging',\n",
    "    'radius': 5000,\n",
    "    'key': g_key\n",
    "}\n",
    "\n",
    "# get a response\n",
    "resp = requests.get(url, params = params)\n",
    "resp"
   ]
  },
  {
   "cell_type": "code",
   "execution_count": 8,
   "metadata": {
    "tags": []
   },
   "outputs": [
    {
     "output_type": "stream",
     "name": "stdout",
     "text": [
      "Info: Retrieving results for hotels in city of: Angoche (MZ).\n",
      "Closest hotel is Guest House HESADA. Guest rating is: 3.5 stars\n",
      "Info: Retrieving results for hotels in city of: Swan River (CA).\n",
      "Closest hotel is Super 8 by Wyndham Swan River MB. Guest rating is: 4 stars\n",
      "Info: Retrieving results for hotels in city of: Matsuura (JP).\n",
      "Closest hotel is 山福旅館. Guest rating is: 2.3 stars\n",
      "Info: Retrieving results for hotels in city of: Jining (CN).\n",
      "Missing field/result for hotel... skipping this one.\n",
      "Info: Retrieving results for hotels in city of: Três Passos (BR).\n",
      "Closest hotel is Hotel Imperial. Guest rating is: 4.2 stars\n",
      "Info: Retrieving results for hotels in city of: Stubbekøbing (DK).\n",
      "Closest hotel is Under Valnødden. Guest rating is: 4.8 stars\n",
      "Info: Retrieving results for hotels in city of: Kumul (CN).\n",
      "Missing field/result for hotel... skipping this one.\n",
      "Info: Retrieving results for hotels in city of: Villa María (AR).\n",
      "Closest hotel is Hotel Milenium. Guest rating is: 4.2 stars\n",
      "Info: Retrieving results for hotels in city of: Kalabo (ZM).\n",
      "Closest hotel is Sikakubete Guest House Kalabo Town Council. Guest rating is: 3 stars\n",
      "Info: Retrieving results for hotels in city of: La Rioja (AR).\n",
      "Closest hotel is Hotel Libertador. Guest rating is: 3.3 stars\n",
      "Info: Retrieving results for hotels in city of: Katherine (AU).\n",
      "Closest hotel is Pine Tree Motel. Guest rating is: 3.9 stars\n"
     ]
    }
   ],
   "source": [
    "# Iterate through \n",
    "for index, row in hotel_df.iterrows():\n",
    "    # get lat, lng from df\n",
    "    lat = row['Lat']\n",
    "    lng = row['Long']\n",
    "\n",
    "    params['location'] = f\"{lat},{lng}\"\n",
    "    \n",
    "    print(f\"Info: Retrieving results for hotels in city of: {row['City']} ({row['Country']}).\")\n",
    "\n",
    "    # make request, print url and convert to json\n",
    "    resp = requests.get(url, params = params)\n",
    "    data = resp.json()\n",
    "    results = data['results']\n",
    "\n",
    "    # Grab the first hotel  from the results and store the name and rating\n",
    "    try:\n",
    "        print(f\"Closest hotel is {results[0]['name']}. Guest rating is: {results[0]['rating']} stars\")\n",
    "        hotel_df.loc[index, 'Hotel Name'] = results[0]['name']\n",
    "        hotel_df.loc[index, 'Hotel Rating'] = results[0]['rating']\n",
    "\n",
    "    # handle error\n",
    "    except (KeyError, IndexError):\n",
    "        hotel_df.loc[index, 'Hotel Name'] = ('No Hotel Available')\n",
    "        print(f'Missing field/result for hotel... skipping this one.')"
   ]
  },
  {
   "cell_type": "code",
   "execution_count": 9,
   "metadata": {},
   "outputs": [
    {
     "output_type": "execute_result",
     "data": {
      "text/plain": [
       "             City    Lat    Long  Max Temp  Humidity  Cloudiness  Wind Speed  \\\n",
       "150       Angoche -16.23   39.91     73.20        82           0        9.17   \n",
       "180    Swan River  52.11 -101.27     74.34        58           0        1.52   \n",
       "185      Matsuura  33.33  129.72     77.00        74           0        4.68   \n",
       "205        Jining  35.41  116.58     79.27        92           0        6.89   \n",
       "261   Três Passos -27.46  -53.93     75.00        70           0        3.00   \n",
       "269  Stubbekøbing  54.89   12.04     73.99        51           0        5.01   \n",
       "278         Kumul  42.80   93.45     78.40        17           0        8.88   \n",
       "296   Villa María -32.41  -63.24     73.99        18           0        1.99   \n",
       "319        Kalabo -14.97   22.68     71.73        19           0        2.71   \n",
       "518      La Rioja -29.41  -66.85     71.31        22           0        5.68   \n",
       "528     Katherine -14.47  132.27     77.00        31           0        5.82   \n",
       "\n",
       "    Country        Date                                  Hotel Name  \\\n",
       "150      MZ  1597687777                          Guest House HESADA   \n",
       "180      CA  1597687782            Super 8 by Wyndham Swan River MB   \n",
       "185      JP  1597687783                                        山福旅館   \n",
       "205      CN  1597687786                          No Hotel Available   \n",
       "261      BR  1597687795                              Hotel Imperial   \n",
       "269      DK  1597687796                             Under Valnødden   \n",
       "278      CN  1597687798                          No Hotel Available   \n",
       "296      AR  1597687801                              Hotel Milenium   \n",
       "319      ZM  1597687805  Sikakubete Guest House Kalabo Town Council   \n",
       "518      AR  1597687784                            Hotel Libertador   \n",
       "528      AU  1597687839                             Pine Tree Motel   \n",
       "\n",
       "    Hotel Rating  \n",
       "150          3.5  \n",
       "180            4  \n",
       "185          2.3  \n",
       "205               \n",
       "261          4.2  \n",
       "269          4.8  \n",
       "278               \n",
       "296          4.2  \n",
       "319            3  \n",
       "518          3.3  \n",
       "528          3.9  "
      ],
      "text/html": "<div>\n<style scoped>\n    .dataframe tbody tr th:only-of-type {\n        vertical-align: middle;\n    }\n\n    .dataframe tbody tr th {\n        vertical-align: top;\n    }\n\n    .dataframe thead th {\n        text-align: right;\n    }\n</style>\n<table border=\"1\" class=\"dataframe\">\n  <thead>\n    <tr style=\"text-align: right;\">\n      <th></th>\n      <th>City</th>\n      <th>Lat</th>\n      <th>Long</th>\n      <th>Max Temp</th>\n      <th>Humidity</th>\n      <th>Cloudiness</th>\n      <th>Wind Speed</th>\n      <th>Country</th>\n      <th>Date</th>\n      <th>Hotel Name</th>\n      <th>Hotel Rating</th>\n    </tr>\n  </thead>\n  <tbody>\n    <tr>\n      <th>150</th>\n      <td>Angoche</td>\n      <td>-16.23</td>\n      <td>39.91</td>\n      <td>73.20</td>\n      <td>82</td>\n      <td>0</td>\n      <td>9.17</td>\n      <td>MZ</td>\n      <td>1597687777</td>\n      <td>Guest House HESADA</td>\n      <td>3.5</td>\n    </tr>\n    <tr>\n      <th>180</th>\n      <td>Swan River</td>\n      <td>52.11</td>\n      <td>-101.27</td>\n      <td>74.34</td>\n      <td>58</td>\n      <td>0</td>\n      <td>1.52</td>\n      <td>CA</td>\n      <td>1597687782</td>\n      <td>Super 8 by Wyndham Swan River MB</td>\n      <td>4</td>\n    </tr>\n    <tr>\n      <th>185</th>\n      <td>Matsuura</td>\n      <td>33.33</td>\n      <td>129.72</td>\n      <td>77.00</td>\n      <td>74</td>\n      <td>0</td>\n      <td>4.68</td>\n      <td>JP</td>\n      <td>1597687783</td>\n      <td>山福旅館</td>\n      <td>2.3</td>\n    </tr>\n    <tr>\n      <th>205</th>\n      <td>Jining</td>\n      <td>35.41</td>\n      <td>116.58</td>\n      <td>79.27</td>\n      <td>92</td>\n      <td>0</td>\n      <td>6.89</td>\n      <td>CN</td>\n      <td>1597687786</td>\n      <td>No Hotel Available</td>\n      <td></td>\n    </tr>\n    <tr>\n      <th>261</th>\n      <td>Três Passos</td>\n      <td>-27.46</td>\n      <td>-53.93</td>\n      <td>75.00</td>\n      <td>70</td>\n      <td>0</td>\n      <td>3.00</td>\n      <td>BR</td>\n      <td>1597687795</td>\n      <td>Hotel Imperial</td>\n      <td>4.2</td>\n    </tr>\n    <tr>\n      <th>269</th>\n      <td>Stubbekøbing</td>\n      <td>54.89</td>\n      <td>12.04</td>\n      <td>73.99</td>\n      <td>51</td>\n      <td>0</td>\n      <td>5.01</td>\n      <td>DK</td>\n      <td>1597687796</td>\n      <td>Under Valnødden</td>\n      <td>4.8</td>\n    </tr>\n    <tr>\n      <th>278</th>\n      <td>Kumul</td>\n      <td>42.80</td>\n      <td>93.45</td>\n      <td>78.40</td>\n      <td>17</td>\n      <td>0</td>\n      <td>8.88</td>\n      <td>CN</td>\n      <td>1597687798</td>\n      <td>No Hotel Available</td>\n      <td></td>\n    </tr>\n    <tr>\n      <th>296</th>\n      <td>Villa María</td>\n      <td>-32.41</td>\n      <td>-63.24</td>\n      <td>73.99</td>\n      <td>18</td>\n      <td>0</td>\n      <td>1.99</td>\n      <td>AR</td>\n      <td>1597687801</td>\n      <td>Hotel Milenium</td>\n      <td>4.2</td>\n    </tr>\n    <tr>\n      <th>319</th>\n      <td>Kalabo</td>\n      <td>-14.97</td>\n      <td>22.68</td>\n      <td>71.73</td>\n      <td>19</td>\n      <td>0</td>\n      <td>2.71</td>\n      <td>ZM</td>\n      <td>1597687805</td>\n      <td>Sikakubete Guest House Kalabo Town Council</td>\n      <td>3</td>\n    </tr>\n    <tr>\n      <th>518</th>\n      <td>La Rioja</td>\n      <td>-29.41</td>\n      <td>-66.85</td>\n      <td>71.31</td>\n      <td>22</td>\n      <td>0</td>\n      <td>5.68</td>\n      <td>AR</td>\n      <td>1597687784</td>\n      <td>Hotel Libertador</td>\n      <td>3.3</td>\n    </tr>\n    <tr>\n      <th>528</th>\n      <td>Katherine</td>\n      <td>-14.47</td>\n      <td>132.27</td>\n      <td>77.00</td>\n      <td>31</td>\n      <td>0</td>\n      <td>5.82</td>\n      <td>AU</td>\n      <td>1597687839</td>\n      <td>Pine Tree Motel</td>\n      <td>3.9</td>\n    </tr>\n  </tbody>\n</table>\n</div>"
     },
     "metadata": {},
     "execution_count": 9
    }
   ],
   "source": [
    "# show hotel data frame\n",
    "hotel_df"
   ]
  },
  {
   "cell_type": "code",
   "execution_count": 12,
   "metadata": {},
   "outputs": [],
   "source": [
    "# NOTE: Do not change any of the code in this cell\n",
    "\n",
    "# Using the template add the hotel marks to the heatmap\n",
    "info_box_template = \"\"\"\n",
    "<dl>\n",
    "<dt>Name</dt><dd>{Hotel Name}</dd>\n",
    "<dt>City</dt><dd>{City}</dd>\n",
    "<dt>Country</dt><dd>{Country}</dd>\n",
    "<dt>Rating</dt><dd>{Hotel Rating}</dd>\n",
    "</dl>\n",
    "\"\"\"\n",
    "\n",
    "# Store the DataFrame Row\n",
    "hotel_info = [info_box_template.format(**row) for index, row in hotel_df.iterrows()]\n",
    "locations = hotel_df[[\"Lat\", \"Long\"]]"
   ]
  },
  {
   "cell_type": "code",
   "execution_count": 13,
   "metadata": {},
   "outputs": [
    {
     "output_type": "display_data",
     "data": {
      "text/plain": "Figure(layout=FigureLayout(height='420px'))",
      "application/vnd.jupyter.widget-view+json": {
       "version_major": 2,
       "version_minor": 0,
       "model_id": "479e025c16124d0e83cb1f9813b71382"
      }
     },
     "metadata": {}
    }
   ],
   "source": [
    "# Add marker layer ontop of heat map\n",
    "marker_layer = gmaps.marker_layer(locations, info_box_content=hotel_info)\n",
    "fig.add_layer(marker_layer)\n",
    "\n",
    "# display figure\n",
    "fig"
   ]
  }
 ],
 "metadata": {
  "kernelspec": {
   "name": "python3",
   "display_name": "Python 3.6.10 64-bit ('PythonData': conda)",
   "metadata": {
    "interpreter": {
     "hash": "4f97d6c61d8a7f21bf92f8d2cb93500af9474aabc8c0feaf9209aca205545b76"
    }
   }
  }
 },
 "nbformat": 4,
 "nbformat_minor": 4
}